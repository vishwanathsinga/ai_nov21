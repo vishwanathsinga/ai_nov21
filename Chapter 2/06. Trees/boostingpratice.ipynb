{
 "cells": [
  {
   "cell_type": "code",
   "execution_count": 1,
   "metadata": {},
   "outputs": [],
   "source": [
    "import pandas as pd\n",
    "from  sklearn.preprocessing import OrdinalEncoder\n"
   ]
  },
  {
   "cell_type": "code",
   "execution_count": 2,
   "metadata": {},
   "outputs": [],
   "source": [
    "df = pd.read_csv(r'C:\\Users\\DELL\\Downloads\\ai_nov21-main\\ai_nov21\\Chapter 2\\06. Trees\\insurance.csv')"
   ]
  },
  {
   "cell_type": "code",
   "execution_count": 3,
   "metadata": {},
   "outputs": [
    {
     "data": {
      "text/html": [
       "<div>\n",
       "<style scoped>\n",
       "    .dataframe tbody tr th:only-of-type {\n",
       "        vertical-align: middle;\n",
       "    }\n",
       "\n",
       "    .dataframe tbody tr th {\n",
       "        vertical-align: top;\n",
       "    }\n",
       "\n",
       "    .dataframe thead th {\n",
       "        text-align: right;\n",
       "    }\n",
       "</style>\n",
       "<table border=\"1\" class=\"dataframe\">\n",
       "  <thead>\n",
       "    <tr style=\"text-align: right;\">\n",
       "      <th></th>\n",
       "      <th>age</th>\n",
       "      <th>sex</th>\n",
       "      <th>bmi</th>\n",
       "      <th>children</th>\n",
       "      <th>smoker</th>\n",
       "      <th>region</th>\n",
       "      <th>charges</th>\n",
       "    </tr>\n",
       "  </thead>\n",
       "  <tbody>\n",
       "    <tr>\n",
       "      <th>0</th>\n",
       "      <td>19</td>\n",
       "      <td>female</td>\n",
       "      <td>27.900</td>\n",
       "      <td>0</td>\n",
       "      <td>yes</td>\n",
       "      <td>southwest</td>\n",
       "      <td>16884.92400</td>\n",
       "    </tr>\n",
       "    <tr>\n",
       "      <th>1</th>\n",
       "      <td>18</td>\n",
       "      <td>male</td>\n",
       "      <td>33.770</td>\n",
       "      <td>1</td>\n",
       "      <td>no</td>\n",
       "      <td>southeast</td>\n",
       "      <td>1725.55230</td>\n",
       "    </tr>\n",
       "    <tr>\n",
       "      <th>2</th>\n",
       "      <td>28</td>\n",
       "      <td>male</td>\n",
       "      <td>33.000</td>\n",
       "      <td>3</td>\n",
       "      <td>no</td>\n",
       "      <td>southeast</td>\n",
       "      <td>4449.46200</td>\n",
       "    </tr>\n",
       "    <tr>\n",
       "      <th>3</th>\n",
       "      <td>33</td>\n",
       "      <td>male</td>\n",
       "      <td>22.705</td>\n",
       "      <td>0</td>\n",
       "      <td>no</td>\n",
       "      <td>northwest</td>\n",
       "      <td>21984.47061</td>\n",
       "    </tr>\n",
       "    <tr>\n",
       "      <th>4</th>\n",
       "      <td>32</td>\n",
       "      <td>male</td>\n",
       "      <td>28.880</td>\n",
       "      <td>0</td>\n",
       "      <td>no</td>\n",
       "      <td>northwest</td>\n",
       "      <td>3866.85520</td>\n",
       "    </tr>\n",
       "  </tbody>\n",
       "</table>\n",
       "</div>"
      ],
      "text/plain": [
       "   age     sex     bmi  children smoker     region      charges\n",
       "0   19  female  27.900         0    yes  southwest  16884.92400\n",
       "1   18    male  33.770         1     no  southeast   1725.55230\n",
       "2   28    male  33.000         3     no  southeast   4449.46200\n",
       "3   33    male  22.705         0     no  northwest  21984.47061\n",
       "4   32    male  28.880         0     no  northwest   3866.85520"
      ]
     },
     "execution_count": 3,
     "metadata": {},
     "output_type": "execute_result"
    }
   ],
   "source": [
    "df.head()"
   ]
  },
  {
   "cell_type": "code",
   "execution_count": 4,
   "metadata": {},
   "outputs": [
    {
     "data": {
      "text/plain": [
       "age           int64\n",
       "sex          object\n",
       "bmi         float64\n",
       "children      int64\n",
       "smoker       object\n",
       "region       object\n",
       "charges     float64\n",
       "dtype: object"
      ]
     },
     "execution_count": 4,
     "metadata": {},
     "output_type": "execute_result"
    }
   ],
   "source": [
    "df.dtypes"
   ]
  },
  {
   "cell_type": "code",
   "execution_count": 5,
   "metadata": {},
   "outputs": [],
   "source": [
    "enc = OrdinalEncoder()\n",
    "df[['sex','smoker','region']] = enc.fit_transform(df[['sex','smoker','region']])"
   ]
  },
  {
   "cell_type": "code",
   "execution_count": 6,
   "metadata": {},
   "outputs": [
    {
     "data": {
      "text/html": [
       "<div>\n",
       "<style scoped>\n",
       "    .dataframe tbody tr th:only-of-type {\n",
       "        vertical-align: middle;\n",
       "    }\n",
       "\n",
       "    .dataframe tbody tr th {\n",
       "        vertical-align: top;\n",
       "    }\n",
       "\n",
       "    .dataframe thead th {\n",
       "        text-align: right;\n",
       "    }\n",
       "</style>\n",
       "<table border=\"1\" class=\"dataframe\">\n",
       "  <thead>\n",
       "    <tr style=\"text-align: right;\">\n",
       "      <th></th>\n",
       "      <th>age</th>\n",
       "      <th>sex</th>\n",
       "      <th>bmi</th>\n",
       "      <th>children</th>\n",
       "      <th>smoker</th>\n",
       "      <th>region</th>\n",
       "      <th>charges</th>\n",
       "    </tr>\n",
       "  </thead>\n",
       "  <tbody>\n",
       "    <tr>\n",
       "      <th>0</th>\n",
       "      <td>19</td>\n",
       "      <td>0.0</td>\n",
       "      <td>27.900</td>\n",
       "      <td>0</td>\n",
       "      <td>1.0</td>\n",
       "      <td>3.0</td>\n",
       "      <td>16884.92400</td>\n",
       "    </tr>\n",
       "    <tr>\n",
       "      <th>1</th>\n",
       "      <td>18</td>\n",
       "      <td>1.0</td>\n",
       "      <td>33.770</td>\n",
       "      <td>1</td>\n",
       "      <td>0.0</td>\n",
       "      <td>2.0</td>\n",
       "      <td>1725.55230</td>\n",
       "    </tr>\n",
       "    <tr>\n",
       "      <th>2</th>\n",
       "      <td>28</td>\n",
       "      <td>1.0</td>\n",
       "      <td>33.000</td>\n",
       "      <td>3</td>\n",
       "      <td>0.0</td>\n",
       "      <td>2.0</td>\n",
       "      <td>4449.46200</td>\n",
       "    </tr>\n",
       "    <tr>\n",
       "      <th>3</th>\n",
       "      <td>33</td>\n",
       "      <td>1.0</td>\n",
       "      <td>22.705</td>\n",
       "      <td>0</td>\n",
       "      <td>0.0</td>\n",
       "      <td>1.0</td>\n",
       "      <td>21984.47061</td>\n",
       "    </tr>\n",
       "    <tr>\n",
       "      <th>4</th>\n",
       "      <td>32</td>\n",
       "      <td>1.0</td>\n",
       "      <td>28.880</td>\n",
       "      <td>0</td>\n",
       "      <td>0.0</td>\n",
       "      <td>1.0</td>\n",
       "      <td>3866.85520</td>\n",
       "    </tr>\n",
       "  </tbody>\n",
       "</table>\n",
       "</div>"
      ],
      "text/plain": [
       "   age  sex     bmi  children  smoker  region      charges\n",
       "0   19  0.0  27.900         0     1.0     3.0  16884.92400\n",
       "1   18  1.0  33.770         1     0.0     2.0   1725.55230\n",
       "2   28  1.0  33.000         3     0.0     2.0   4449.46200\n",
       "3   33  1.0  22.705         0     0.0     1.0  21984.47061\n",
       "4   32  1.0  28.880         0     0.0     1.0   3866.85520"
      ]
     },
     "execution_count": 6,
     "metadata": {},
     "output_type": "execute_result"
    }
   ],
   "source": [
    "df.head()"
   ]
  },
  {
   "cell_type": "code",
   "execution_count": 7,
   "metadata": {},
   "outputs": [
    {
     "data": {
      "text/plain": [
       "array([['female', 'yes', 'southwest'],\n",
       "       ['male', 'no', 'southeast'],\n",
       "       ['male', 'no', 'southeast'],\n",
       "       ...,\n",
       "       ['female', 'no', 'southeast'],\n",
       "       ['female', 'no', 'southwest'],\n",
       "       ['female', 'yes', 'northwest']], dtype=object)"
      ]
     },
     "execution_count": 7,
     "metadata": {},
     "output_type": "execute_result"
    }
   ],
   "source": [
    "enc.inverse_transform(df[['sex','smoker','region']])"
   ]
  },
  {
   "cell_type": "code",
   "execution_count": 8,
   "metadata": {},
   "outputs": [
    {
     "data": {
      "text/plain": [
       "age           int64\n",
       "sex         float64\n",
       "bmi         float64\n",
       "children      int64\n",
       "smoker      float64\n",
       "region      float64\n",
       "charges     float64\n",
       "dtype: object"
      ]
     },
     "execution_count": 8,
     "metadata": {},
     "output_type": "execute_result"
    }
   ],
   "source": [
    "df.dtypes"
   ]
  },
  {
   "cell_type": "code",
   "execution_count": 9,
   "metadata": {},
   "outputs": [],
   "source": [
    "X,y = df.iloc[:,:-1],df.iloc[:, -1]"
   ]
  },
  {
   "cell_type": "code",
   "execution_count": 10,
   "metadata": {},
   "outputs": [],
   "source": [
    "from sklearn.model_selection import train_test_split"
   ]
  },
  {
   "cell_type": "code",
   "execution_count": 11,
   "metadata": {},
   "outputs": [],
   "source": [
    "X_train, X_test, y_train, y_test = train_test_split(X,y,test_size=0.3,random_state=0)"
   ]
  },
  {
   "cell_type": "code",
   "execution_count": 12,
   "metadata": {},
   "outputs": [],
   "source": [
    "from sklearn.preprocessing import MinMaxScaler,StandardScaler"
   ]
  },
  {
   "cell_type": "code",
   "execution_count": 13,
   "metadata": {},
   "outputs": [
    {
     "data": {
      "text/plain": [
       "array([[ 0.89459283,  1.02378711, -0.08863026, -0.06746417, -0.50466988,\n",
       "         1.31322188],\n",
       "       [ 0.53757957, -0.97676557, -0.22180837, -0.06746417, -0.50466988,\n",
       "         0.40608116],\n",
       "       [ 0.60898222,  1.02378711,  1.57449152,  0.76341038,  1.98149332,\n",
       "        -0.50105957],\n",
       "       ...,\n",
       "       [ 1.10880078,  1.02378711,  1.20785059, -0.89833872, -0.50466988,\n",
       "         0.40608116],\n",
       "       [ 1.75142463,  1.02378711,  1.34905148, -0.06746417, -0.50466988,\n",
       "         0.40608116],\n",
       "       [ 1.60861933, -0.97676557, -0.92299913, -0.89833872, -0.50466988,\n",
       "         1.31322188]])"
      ]
     },
     "execution_count": 13,
     "metadata": {},
     "output_type": "execute_result"
    }
   ],
   "source": [
    "sc1 = StandardScaler()\n",
    "sc1.fit_transform(X_train)\n",
    "sc1.transform(X_test)"
   ]
  },
  {
   "cell_type": "code",
   "execution_count": 14,
   "metadata": {},
   "outputs": [
    {
     "data": {
      "text/plain": [
       "array([[0.73913043, 1.        , 0.38310465, 0.2       , 0.        ,\n",
       "        1.        ],\n",
       "       [0.63043478, 0.        , 0.36077482, 0.2       , 0.        ,\n",
       "        0.66666667],\n",
       "       [0.65217391, 1.        , 0.66195857, 0.4       , 1.        ,\n",
       "        0.33333333],\n",
       "       ...,\n",
       "       [0.80434783, 1.        , 0.60048426, 0.        , 0.        ,\n",
       "        0.66666667],\n",
       "       [1.        , 1.        , 0.62415927, 0.2       , 0.        ,\n",
       "        0.66666667],\n",
       "       [0.95652174, 0.        , 0.24320689, 0.        , 0.        ,\n",
       "        1.        ]])"
      ]
     },
     "execution_count": 14,
     "metadata": {},
     "output_type": "execute_result"
    }
   ],
   "source": [
    "scaler = MinMaxScaler()\n",
    "scaler.fit_transform(X_train)\n",
    "scaler.transform(X_test)"
   ]
  },
  {
   "cell_type": "code",
   "execution_count": 15,
   "metadata": {},
   "outputs": [],
   "source": [
    "from sklearn.tree import DecisionTreeRegressor"
   ]
  },
  {
   "cell_type": "code",
   "execution_count": 16,
   "metadata": {},
   "outputs": [
    {
     "data": {
      "text/plain": [
       "DecisionTreeRegressor()"
      ]
     },
     "execution_count": 16,
     "metadata": {},
     "output_type": "execute_result"
    }
   ],
   "source": [
    "clf = DecisionTreeRegressor()\n",
    "clf = clf.fit(X_train,y_train)\n",
    "clf"
   ]
  },
  {
   "cell_type": "code",
   "execution_count": 17,
   "metadata": {},
   "outputs": [
    {
     "data": {
      "text/plain": [
       "array([10085.846   ,  8930.93455 , 44202.6536  , 12741.16745 ,\n",
       "        9566.9909  , 21984.47061 ,  2196.4732  , 10600.5483  ,\n",
       "        8965.79575 ,  6128.79745 ,  6933.24225 , 30284.64294 ,\n",
       "        7633.7206  ,  3704.3545  , 18033.9679  , 11015.1747  ,\n",
       "       12629.8967  ,  2727.3951  ,  6986.697   , 33307.5508  ,\n",
       "       24667.419   , 13430.265   , 10564.8845  , 27533.9129  ,\n",
       "        1532.4697  ,  4454.40265 , 23288.9284  ,  7954.517   ,\n",
       "        3757.8448  ,  8027.968   ,  8252.2843  , 47896.79135 ,\n",
       "       13393.756   ,  9850.432   , 16420.49455 ,  4527.18295 ,\n",
       "        8527.532   , 37484.4493  , 39125.33225 ,  2020.177   ,\n",
       "       21984.47061 ,  2866.091   , 21659.9301  , 44641.1974  ,\n",
       "       36307.7983  ,  3579.8287  , 11015.1747  ,  6389.37785 ,\n",
       "        4719.52405 , 11830.6072  ,  2473.3341  ,  4296.2712  ,\n",
       "       27533.9129  , 60021.39897 , 11856.4115  , 19673.33573 ,\n",
       "        3292.52985 ,  8601.3293  ,  7726.854   , 13937.6665  ,\n",
       "        1252.407   , 46130.5265  , 14119.62    ,  8968.33    ,\n",
       "       26392.26029 ,  9877.6077  , 33307.5508  , 39983.42595 ,\n",
       "        2913.569   ,  8252.2843  , 24513.09126 , 12224.35085 ,\n",
       "       16297.846   , 13887.204   , 12629.8967  , 13204.28565 ,\n",
       "        7742.1098  ,  8116.26885 , 20773.62775 , 46599.1084  ,\n",
       "       11658.11505 , 46113.511   ,  1639.5631  ,  8062.764   ,\n",
       "       39125.33225 , 19719.6947  ,  2904.088   ,  3292.52985 ,\n",
       "       27000.98473 , 36950.2567  ,  6799.458   ,  9850.432   ,\n",
       "        3021.80915 ,  8232.6388  ,  6112.35295 ,  4347.02335 ,\n",
       "       41999.52    , 62592.87309 ,  5031.26955 , 11576.13    ,\n",
       "        1826.843   ,  6112.35295 ,  3577.999   , 39983.42595 ,\n",
       "       37829.7242  , 23288.9284  , 11070.535   , 19673.33573 ,\n",
       "       11938.25595 , 45008.9555  , 12479.70895 ,  4753.6368  ,\n",
       "       11015.1747  , 34617.84065 , 47269.854   ,  6710.1919  ,\n",
       "        1832.094   ,  8782.469   , 36910.60803 ,  9193.8385  ,\n",
       "       40273.6455  , 10197.7722  , 13831.1152  ,  6799.458   ,\n",
       "        7624.63    ,  5209.57885 , 38245.59327 , 35069.37452 ,\n",
       "       48673.5588  ,  1646.4297  ,  8116.26885 ,  1727.54    ,\n",
       "        5974.3847  ,  8688.85885 , 62592.87309 , 37079.372   ,\n",
       "       21259.37795 , 10156.7832  , 22218.1149  , 12609.88702 ,\n",
       "        2459.7201  , 10796.35025 ,  8978.1851  , 10923.9332  ,\n",
       "        5227.98875 , 13822.803   , 36910.60803 , 22395.74424 ,\n",
       "        1628.4709  , 10942.13205 ,  7144.86265 , 38792.6856  ,\n",
       "       25333.33284 , 21344.8467  ,  2217.46915 ,  5974.3847  ,\n",
       "        1639.5631  ,  1711.0268  , 11015.1747  ,  9414.92    ,\n",
       "        4922.9159  , 13470.86    , 12233.828   ,  9386.1613  ,\n",
       "        4134.08245 , 24671.66334 , 20167.33603 ,  6799.458   ,\n",
       "        4237.12655 ,  1634.5734  , 19673.33573 ,  4133.64165 ,\n",
       "        7441.501   ,  2416.955   ,  4449.462   , 24671.66334 ,\n",
       "        4719.73655 ,  5855.9025  , 24915.22085 ,  1705.6245  ,\n",
       "       29186.48236 ,  7281.5056  , 11353.2276  ,  2497.0383  ,\n",
       "        7228.21565 , 29330.98315 ,  1639.5631  ,  2331.519   ,\n",
       "       14410.9321  , 10043.249   , 40974.1649  ,  3877.30425 ,\n",
       "        4934.705   , 21978.6769  ,  3292.52985 ,  1815.8759  ,\n",
       "        6203.90175 ,  5989.52365 ,  3471.4096  ,  4454.40265 ,\n",
       "       10928.849   , 47055.5321  , 12495.29085 , 19040.876   ,\n",
       "        4922.9159  , 42760.5022  ,  3309.7926  ,  9487.6442  ,\n",
       "        4889.9995  ,  1146.7966  ,  9048.0273  , 13844.7972  ,\n",
       "        4133.64165 ,  2855.43755 ,  6289.7549  ,  1815.8759  ,\n",
       "        6748.5912  ,  5855.9025  , 14001.1338  ,  6933.24225 ,\n",
       "        5934.3798  ,  8965.79575 , 21232.18226 ,  3176.8159  ,\n",
       "       11674.13    , 14410.9321  , 33471.97189 , 11931.12525 ,\n",
       "        6338.0756  ,  2523.1695  , 21344.8467  ,  7448.40395 ,\n",
       "       12622.1795  , 24671.66334 ,  5002.7827  ,  6600.361   ,\n",
       "       25656.57526 , 33750.2918  ,  6123.5688  , 29186.48236 ,\n",
       "        5649.715   , 44585.45587 ,  7162.0122  ,  9095.06825 ,\n",
       "        7441.501   ,  9869.8102  ,  3861.20965 ,  7633.7206  ,\n",
       "        1515.3449  ,  6389.37785 , 19350.3689  , 47291.055   ,\n",
       "        3877.30425 ,  3227.1211  ,  2200.83085 ,  1704.70015 ,\n",
       "        8062.764   ,  7882.429475, 24671.66334 ,  4340.4409  ,\n",
       "        9101.798   , 24393.6224  , 47055.5321  , 16455.70785 ,\n",
       "        6393.60345 , 10982.5013  , 37484.4493  ,  9095.06825 ,\n",
       "       39983.42595 ,  1137.011   , 37484.4493  ,  4949.7587  ,\n",
       "       11842.62375 ,  3594.17085 , 39836.519   ,  6112.35295 ,\n",
       "        9487.6442  , 10096.97    ,  1639.5631  , 27000.98473 ,\n",
       "       12224.35085 , 12404.8791  , 13143.33665 , 21344.8467  ,\n",
       "        6123.5688  ,  4234.927   ,  7418.522   , 21880.82    ,\n",
       "        3292.52985 ,  1705.6245  ,  3077.0955  , 48824.45    ,\n",
       "        9225.2564  ,  4347.02335 , 12495.29085 , 10601.63225 ,\n",
       "       34838.873   ,  5974.3847  ,  5240.765   ,  8798.593   ,\n",
       "        1639.5631  ,  3056.3881  , 32734.1863  , 17663.1442  ,\n",
       "       13352.0998  ,  2523.1695  ,  3227.1211  ,  9101.798   ,\n",
       "       10072.05505 , 13747.87235 , 20745.9891  , 18963.17192 ,\n",
       "       15359.1045  ,  2459.7201  ,  5400.9805  ,  4402.233   ,\n",
       "        8627.5411  ,  2304.0022  ,  9715.841   , 44202.6536  ,\n",
       "        3579.8287  ,  3956.07145 ,  2196.4732  ,  8280.6227  ,\n",
       "        3353.284   , 11931.12525 , 47055.5321  , 18259.216   ,\n",
       "        8964.06055 , 41949.2441  , 13430.265   ,  4922.9159  ,\n",
       "        9386.1613  ,  4234.927   , 28868.6639  ,  4350.5144  ,\n",
       "       13129.60345 ,  1832.094   , 15359.1045  ,  3176.8159  ,\n",
       "       24869.8368  ,  5400.9805  ,  2775.19215 , 44501.3982  ,\n",
       "        5253.524   ,  4415.1588  , 24915.22085 , 16586.49771 ,\n",
       "       32108.66282 ,  3077.0955  , 11299.343   ,  3208.787   ,\n",
       "        5846.9176  ,  5253.524   , 43921.1837  ,  8539.671   ,\n",
       "       62592.87309 , 37484.4493  ,  5415.6612  ,  8538.28845 ,\n",
       "        1632.56445 ,  3161.454   ,  3393.35635 ,  9048.0273  ,\n",
       "       43813.8661  , 11830.6072  ,  1731.677   , 12815.44495 ,\n",
       "        2134.9015  ,  7348.142   ,  4337.7352  ,  2416.955   ,\n",
       "        3292.52985 , 36307.7983  ,  6933.24225 ,  1615.7667  ,\n",
       "       39774.2763  , 20781.48892 , 41919.097   , 11931.12525 ,\n",
       "        4454.40265 ,  2775.19215 ,  1906.35825 , 10848.1343  ,\n",
       "       11737.84884 ,  2203.73595 , 10564.8845  ,  7954.517   ,\n",
       "        5979.731   ,  3877.30425 , 12609.88702 , 37484.4493  ,\n",
       "        1639.5631  ,  8782.469   ,  7882.429475, 28476.73499 ,\n",
       "       11576.13    ,  3693.428   , 18223.4512  , 20781.48892 ,\n",
       "       16085.1275  , 24513.09126 ])"
      ]
     },
     "execution_count": 17,
     "metadata": {},
     "output_type": "execute_result"
    }
   ],
   "source": [
    "y_pred = clf.predict(X_test)\n",
    "y_pred"
   ]
  },
  {
   "cell_type": "code",
   "execution_count": 18,
   "metadata": {},
   "outputs": [
    {
     "name": "stdout",
     "output_type": "stream",
     "text": [
      "dt_train =  0.9994078632651511\n",
      "dt_test =  0.685460975691976\n"
     ]
    }
   ],
   "source": [
    "score = clf.score(X_train,y_train)\n",
    "print('dt_train = ',score)\n",
    "score = clf.score(X_test,y_test)\n",
    "print('dt_test = ',score)"
   ]
  },
  {
   "cell_type": "code",
   "execution_count": null,
   "metadata": {},
   "outputs": [],
   "source": []
  },
  {
   "cell_type": "code",
   "execution_count": null,
   "metadata": {},
   "outputs": [],
   "source": []
  },
  {
   "cell_type": "code",
   "execution_count": null,
   "metadata": {},
   "outputs": [],
   "source": []
  },
  {
   "cell_type": "code",
   "execution_count": null,
   "metadata": {},
   "outputs": [],
   "source": []
  },
  {
   "cell_type": "code",
   "execution_count": null,
   "metadata": {},
   "outputs": [],
   "source": []
  },
  {
   "cell_type": "code",
   "execution_count": null,
   "metadata": {},
   "outputs": [],
   "source": []
  }
 ],
 "metadata": {
  "interpreter": {
   "hash": "9d49e6ad289614883bcb5342a4a3da3b8f2fdd690e2fb3cfaad4eebfabb9319e"
  },
  "kernelspec": {
   "display_name": "Python 3.8.12 64-bit ('vishwa': conda)",
   "language": "python",
   "name": "python3"
  },
  "language_info": {
   "codemirror_mode": {
    "name": "ipython",
    "version": 3
   },
   "file_extension": ".py",
   "mimetype": "text/x-python",
   "name": "python",
   "nbconvert_exporter": "python",
   "pygments_lexer": "ipython3",
   "version": "3.8.12"
  },
  "orig_nbformat": 4
 },
 "nbformat": 4,
 "nbformat_minor": 2
}
