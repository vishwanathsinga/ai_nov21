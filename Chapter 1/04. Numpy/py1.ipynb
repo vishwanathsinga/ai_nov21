{
 "cells": [
  {
   "cell_type": "markdown",
   "id": "9bc647b4",
   "metadata": {},
   "source": [
    "## Remember that the solutions need to be saved int variable provided."
   ]
  },
  {
   "cell_type": "code",
   "execution_count": 1,
   "id": "01ff241f",
   "metadata": {},
   "outputs": [],
   "source": [
    "# Import the needed libraries\n",
    "import numpy as np"
   ]
  },
  {
   "cell_type": "markdown",
   "id": "120ffc53",
   "metadata": {
    "deletable": false,
    "editable": false,
    "nbgrader": {
     "cell_type": "markdown",
     "checksum": "1a39df2a0ee2ece9e42fc92195613df8",
     "grade": false,
     "grade_id": "cell-ae105ff48d81e52c",
     "locked": true,
     "schema_version": 3,
     "solution": false,
     "task": false
    }
   },
   "source": [
    "**13. Create a 10x10 array with random values and find the minimum and maximum values**"
   ]
  },
  {
   "cell_type": "code",
   "execution_count": 5,
   "id": "4212b05b",
   "metadata": {
    "deletable": false,
    "nbgrader": {
     "cell_type": "code",
     "checksum": "e939193eeb6a59d4260517d4af3eaadb",
     "grade": false,
     "grade_id": "cell-d37d68df72162149",
     "locked": false,
     "schema_version": 3,
     "solution": true,
     "task": false
    }
   },
   "outputs": [
    {
     "name": "stdout",
     "output_type": "stream",
     "text": [
      "[[0.23341978 0.25737712 0.82906281 0.76574855 0.8649288  0.24057229\n",
      "  0.74090804 0.82742393 0.88604034 0.91388477]\n",
      " [0.08014603 0.49404781 0.85211143 0.63191001 0.29738221 0.44740932\n",
      "  0.01273149 0.11218738 0.04209145 0.56976652]\n",
      " [0.22469342 0.72666684 0.04991639 0.94736801 0.5728833  0.3240593\n",
      "  0.36782332 0.62860481 0.1138316  0.75195215]\n",
      " [0.28194833 0.84548716 0.67592549 0.91326429 0.80588803 0.59575243\n",
      "  0.43265415 0.05574205 0.62263185 0.07386419]\n",
      " [0.81423249 0.70620844 0.53483458 0.77294878 0.77451139 0.30204485\n",
      "  0.86882564 0.04910769 0.51864161 0.51868187]\n",
      " [0.69007171 0.42840919 0.71044387 0.78234735 0.76803458 0.11019415\n",
      "  0.50393616 0.76505866 0.83670014 0.47523464]\n",
      " [0.4943706  0.74873759 0.7484467  0.22310558 0.43900309 0.53296418\n",
      "  0.83526466 0.9453264  0.37154342 0.61441507]\n",
      " [0.89131307 0.04537055 0.82368826 0.9413489  0.51402139 0.38671236\n",
      "  0.19060278 0.93930541 0.47753018 0.03127123]\n",
      " [0.51713326 0.27909779 0.2988008  0.85560039 0.80511002 0.85875414\n",
      "  0.78316144 0.36093335 0.57043181 0.93155499]\n",
      " [0.89686005 0.66427436 0.19760858 0.75854173 0.23519852 0.55652669\n",
      "  0.70515147 0.2431353  0.65753808 0.99171669]]\n",
      "0.012731494334224158 0.9917166852351507\n"
     ]
    }
   ],
   "source": [
    "# 1 point\n",
    "sol1 = 0\n",
    "# YOUR CODE HERE\n",
    "array = np.random.random((10,10))\n",
    "print(array)\n",
    "arraymin = array.min()\n",
    "arraymax = array.max()\n",
    "print(arraymin,arraymax)\n"
   ]
  },
  {
   "cell_type": "code",
   "execution_count": 6,
   "id": "713f2818",
   "metadata": {
    "deletable": false,
    "editable": false,
    "nbgrader": {
     "cell_type": "code",
     "checksum": "783f9069dd18b6ec27701770f225a148",
     "grade": true,
     "grade_id": "cell-f1d4fa08074f4dcd",
     "locked": true,
     "points": 1,
     "schema_version": 3,
     "solution": false,
     "task": false
    }
   },
   "outputs": [],
   "source": [
    "assert array.shape == (10,10)"
   ]
  },
  {
   "cell_type": "markdown",
   "id": "5e7c785c",
   "metadata": {},
   "source": [
    "**15. Create a 2d 10x10 array with 1 on the border and 0 inside**"
   ]
  },
  {
   "cell_type": "code",
   "execution_count": 9,
   "id": "bc7d9773",
   "metadata": {
    "deletable": false,
    "nbgrader": {
     "cell_type": "code",
     "checksum": "4f00b53c9ecc26403bf5bd660c3f033c",
     "grade": false,
     "grade_id": "cell-6584e6c544771f0c",
     "locked": false,
     "schema_version": 3,
     "solution": true,
     "task": false
    }
   },
   "outputs": [
    {
     "name": "stdout",
     "output_type": "stream",
     "text": [
      "[[1. 1. 1. 1. 1. 1. 1. 1. 1. 1.]\n",
      " [1. 1. 1. 1. 1. 1. 1. 1. 1. 1.]\n",
      " [1. 1. 1. 1. 1. 1. 1. 1. 1. 1.]\n",
      " [1. 1. 1. 1. 1. 1. 1. 1. 1. 1.]\n",
      " [1. 1. 1. 1. 1. 1. 1. 1. 1. 1.]\n",
      " [1. 1. 1. 1. 1. 1. 1. 1. 1. 1.]\n",
      " [1. 1. 1. 1. 1. 1. 1. 1. 1. 1.]\n",
      " [1. 1. 1. 1. 1. 1. 1. 1. 1. 1.]\n",
      " [1. 1. 1. 1. 1. 1. 1. 1. 1. 1.]\n",
      " [1. 1. 1. 1. 1. 1. 1. 1. 1. 1.]]\n",
      "[[1. 1. 1. 1. 1. 1. 1. 1. 1. 1.]\n",
      " [1. 0. 0. 0. 0. 0. 0. 0. 0. 1.]\n",
      " [1. 0. 0. 0. 0. 0. 0. 0. 0. 1.]\n",
      " [1. 0. 0. 0. 0. 0. 0. 0. 0. 1.]\n",
      " [1. 0. 0. 0. 0. 0. 0. 0. 0. 1.]\n",
      " [1. 0. 0. 0. 0. 0. 0. 0. 0. 1.]\n",
      " [1. 0. 0. 0. 0. 0. 0. 0. 0. 1.]\n",
      " [1. 0. 0. 0. 0. 0. 0. 0. 0. 1.]\n",
      " [1. 0. 0. 0. 0. 0. 0. 0. 0. 1.]\n",
      " [1. 1. 1. 1. 1. 1. 1. 1. 1. 1.]]\n"
     ]
    }
   ],
   "source": [
    "#1 points\n",
    "sol2 = 0\n",
    "\n",
    "# YOUR CODE HERE\n",
    "array = np.ones((10,10))\n",
    "print(array)\n",
    "array[1:-1,1:-1] = 0\n",
    "print(array)\n",
    "\n"
   ]
  },
  {
   "cell_type": "code",
   "execution_count": 10,
   "id": "c2f55c26",
   "metadata": {
    "deletable": false,
    "editable": false,
    "nbgrader": {
     "cell_type": "code",
     "checksum": "06bd7af6a0273b28869865b4dd35fef5",
     "grade": true,
     "grade_id": "cell-9429aab0f4477a86",
     "locked": true,
     "points": 1,
     "schema_version": 3,
     "solution": false,
     "task": false
    }
   },
   "outputs": [],
   "source": [
    "assert array.shape == (10,10)\n",
    "assert array[0].all() == 1\n",
    "assert array[:,0].all() == 1\n",
    "assert array[1][1] == 0\n",
    "assert array[2][2] == 0\n",
    "assert array[3][3] == 0\n",
    "assert array[4][4] == 0\n",
    "assert array[1][2] == 0\n",
    "assert array[2][3] == 0\n",
    "assert array[3][4] == 0\n",
    "assert array[4][5] == 0"
   ]
  },
  {
   "cell_type": "markdown",
   "id": "5e279435",
   "metadata": {},
   "source": [
    "**34. How to get all the dates corresponding to the month of July 2016**"
   ]
  },
  {
   "cell_type": "code",
   "execution_count": 15,
   "id": "99620de8",
   "metadata": {
    "deletable": false,
    "nbgrader": {
     "cell_type": "code",
     "checksum": "0c0c212e8014f00f5ede5ec4ea42e584",
     "grade": false,
     "grade_id": "cell-9784b014be5fdf5a",
     "locked": false,
     "schema_version": 3,
     "solution": true,
     "task": false
    }
   },
   "outputs": [
    {
     "name": "stdout",
     "output_type": "stream",
     "text": [
      "['2016-07-01' '2016-07-02' '2016-07-03' '2016-07-04' '2016-07-05'\n",
      " '2016-07-06' '2016-07-07' '2016-07-08' '2016-07-09' '2016-07-10'\n",
      " '2016-07-11' '2016-07-12' '2016-07-13' '2016-07-14' '2016-07-15'\n",
      " '2016-07-16' '2016-07-17' '2016-07-18' '2016-07-19' '2016-07-20'\n",
      " '2016-07-21' '2016-07-22' '2016-07-23' '2016-07-24' '2016-07-25'\n",
      " '2016-07-26' '2016-07-27' '2016-07-28' '2016-07-29' '2016-07-30'\n",
      " '2016-07-31']\n"
     ]
    }
   ],
   "source": [
    "#2 points\n",
    "sol3 = 0\n",
    "\n",
    "# YOUR CODE HERE\n",
    "julymonth = (np.arange('2016-07','2016-08',dtype='datetime64[D]'))\n",
    "print(julymonth)"
   ]
  },
  {
   "cell_type": "code",
   "execution_count": 16,
   "id": "6b13edc2",
   "metadata": {
    "deletable": false,
    "editable": false,
    "nbgrader": {
     "cell_type": "code",
     "checksum": "b208a834c29619be08b9f9a7887b7087",
     "grade": true,
     "grade_id": "cell-8beeae591e9b50ed",
     "locked": true,
     "points": 2,
     "schema_version": 3,
     "solution": false,
     "task": false
    }
   },
   "outputs": [],
   "source": [
    "assert julymonth.shape == (31,)\n",
    "assert type(julymonth[0]) is np.datetime64"
   ]
  },
  {
   "cell_type": "markdown",
   "id": "d8e224a9",
   "metadata": {},
   "source": [
    "**42. Consider two random arrays based on the normal and uniform distributions 10x10 sol41 and sol42, check if they are equal**"
   ]
  },
  {
   "cell_type": "code",
   "execution_count": null,
   "id": "2156ebee",
   "metadata": {
    "deletable": false,
    "nbgrader": {
     "cell_type": "code",
     "checksum": "52c996342988d9baa17167d47cf5701c",
     "grade": false,
     "grade_id": "cell-5000744434ae05a2",
     "locked": false,
     "schema_version": 3,
     "solution": true,
     "task": false
    }
   },
   "outputs": [],
   "source": [
    "#2 points\n",
    "sol41 = 0\n",
    "sol42 = 0\n",
    "comparisson = 0\n",
    "# YOUR CODE HERE\n",
    "raise NotImplementedError()"
   ]
  },
  {
   "cell_type": "code",
   "execution_count": null,
   "id": "000567b0",
   "metadata": {
    "deletable": false,
    "editable": false,
    "nbgrader": {
     "cell_type": "code",
     "checksum": "6b10c43e0c33791bc40a0b3e2e9cc071",
     "grade": true,
     "grade_id": "cell-807bf6c3ff3f3b0d",
     "locked": true,
     "points": 2,
     "schema_version": 3,
     "solution": false,
     "task": false
    }
   },
   "outputs": [],
   "source": [
    "bol = True\n",
    "\n",
    "for l in comparisson:\n",
    "    for c in l:\n",
    "        if c:\n",
    "            bol = False\n",
    "\n",
    "\n",
    "assert bol"
   ]
  },
  {
   "cell_type": "markdown",
   "id": "d3a8ce54",
   "metadata": {},
   "source": [
    "**72. How to swap two rows of an array?** "
   ]
  },
  {
   "cell_type": "code",
   "execution_count": 26,
   "id": "1d38f692",
   "metadata": {
    "deletable": false,
    "nbgrader": {
     "cell_type": "code",
     "checksum": "ccca804156ed12777f188de3084a7145",
     "grade": false,
     "grade_id": "cell-079026f268b5211c",
     "locked": false,
     "schema_version": 3,
     "solution": true,
     "task": false
    }
   },
   "outputs": [
    {
     "ename": "TypeError",
     "evalue": "Field elements must be 2- or 3-tuples, got '4'",
     "output_type": "error",
     "traceback": [
      "\u001b[1;31m---------------------------------------------------------------------------\u001b[0m",
      "\u001b[1;31mTypeError\u001b[0m                                 Traceback (most recent call last)",
      "\u001b[1;32m~\\AppData\\Local\\Temp/ipykernel_5208/3412278425.py\u001b[0m in \u001b[0;36m<module>\u001b[1;34m\u001b[0m\n\u001b[0;32m      3\u001b[0m \u001b[1;33m\u001b[0m\u001b[0m\n\u001b[0;32m      4\u001b[0m \u001b[1;31m# YOUR CODE HERE\u001b[0m\u001b[1;33m\u001b[0m\u001b[1;33m\u001b[0m\u001b[0m\n\u001b[1;32m----> 5\u001b[1;33m \u001b[0marray\u001b[0m \u001b[1;33m=\u001b[0m \u001b[0mnp\u001b[0m\u001b[1;33m.\u001b[0m\u001b[0marray\u001b[0m\u001b[1;33m(\u001b[0m\u001b[1;33m[\u001b[0m\u001b[1;36m1\u001b[0m\u001b[1;33m,\u001b[0m\u001b[1;36m2\u001b[0m\u001b[1;33m,\u001b[0m\u001b[1;36m3\u001b[0m\u001b[1;33m]\u001b[0m\u001b[1;33m,\u001b[0m\u001b[1;33m[\u001b[0m\u001b[1;36m4\u001b[0m\u001b[1;33m,\u001b[0m\u001b[1;36m5\u001b[0m\u001b[1;33m,\u001b[0m\u001b[1;36m6\u001b[0m\u001b[1;33m]\u001b[0m\u001b[1;33m)\u001b[0m\u001b[1;33m.\u001b[0m\u001b[0mreshape\u001b[0m\u001b[1;33m(\u001b[0m\u001b[1;36m1\u001b[0m\u001b[1;33m,\u001b[0m\u001b[1;36m1\u001b[0m\u001b[1;33m)\u001b[0m\u001b[1;33m\u001b[0m\u001b[1;33m\u001b[0m\u001b[0m\n\u001b[0m\u001b[0;32m      6\u001b[0m \u001b[0marray\u001b[0m\u001b[1;33m[\u001b[0m\u001b[1;33m[\u001b[0m\u001b[1;36m0\u001b[0m\u001b[1;33m,\u001b[0m\u001b[1;36m1\u001b[0m\u001b[1;33m]\u001b[0m\u001b[1;33m]\u001b[0m \u001b[1;33m=\u001b[0m \u001b[0marray\u001b[0m\u001b[1;33m[\u001b[0m\u001b[1;33m[\u001b[0m\u001b[1;36m1\u001b[0m\u001b[1;33m,\u001b[0m\u001b[1;36m0\u001b[0m\u001b[1;33m]\u001b[0m\u001b[1;33m]\u001b[0m\u001b[1;33m\u001b[0m\u001b[1;33m\u001b[0m\u001b[0m\n\u001b[0;32m      7\u001b[0m \u001b[0mprint\u001b[0m\u001b[1;33m(\u001b[0m\u001b[0marray\u001b[0m\u001b[1;33m)\u001b[0m\u001b[1;33m\u001b[0m\u001b[1;33m\u001b[0m\u001b[0m\n",
      "\u001b[1;31mTypeError\u001b[0m: Field elements must be 2- or 3-tuples, got '4'"
     ]
    }
   ],
   "source": [
    "#3 points\n",
    "sol5 = np.array([[1,2,3],[4,5,6]])\n",
    "\n",
    "# YOUR CODE \n",
    "array[[0,1]] = array[[1,0]]\n",
    "print(array)"
   ]
  },
  {
   "cell_type": "code",
   "execution_count": null,
   "id": "58c31b00",
   "metadata": {
    "deletable": false,
    "editable": false,
    "nbgrader": {
     "cell_type": "code",
     "checksum": "1ad68d0086b2abc9dd89dc54d9868d2c",
     "grade": true,
     "grade_id": "cell-e4f878f0864f33bd",
     "locked": true,
     "points": 3,
     "schema_version": 3,
     "solution": false,
     "task": false
    }
   },
   "outputs": [],
   "source": [
    "assert sol5[0][0] == 4\n",
    "assert sol5[0][1] == 5\n",
    "assert sol5[0][2] == 6\n",
    "\n",
    "assert sol5[1][0] == 1\n",
    "assert sol5[1][1] == 2\n",
    "assert sol5[1][2] == 3\n"
   ]
  },
  {
   "cell_type": "markdown",
   "id": "438c1465",
   "metadata": {},
   "source": [
    "**75. How to compute averages using a sliding window over an array?**"
   ]
  },
  {
   "cell_type": "code",
   "execution_count": null,
   "id": "d8294703",
   "metadata": {
    "deletable": false,
    "nbgrader": {
     "cell_type": "code",
     "checksum": "ff4ef295ceace892027e6fce4f7eb266",
     "grade": false,
     "grade_id": "cell-ccafbda4e4cb7996",
     "locked": false,
     "schema_version": 3,
     "solution": true,
     "task": false
    }
   },
   "outputs": [],
   "source": [
    "arr = np.array([1,2,3,4,5,6,7,8,9,10])\n",
    "sol6 = 0\n",
    "# YOUR CODE HERE\n",
    "raise NotImplementedError()\n"
   ]
  },
  {
   "cell_type": "code",
   "execution_count": null,
   "id": "6eec0ee9",
   "metadata": {
    "deletable": false,
    "editable": false,
    "nbgrader": {
     "cell_type": "code",
     "checksum": "fabc3056e9ed22951d83c4012d5ec189",
     "grade": true,
     "grade_id": "cell-1983fc0078a860ff",
     "locked": true,
     "points": 3,
     "schema_version": 3,
     "solution": false,
     "task": false
    }
   },
   "outputs": [],
   "source": [
    "assert sol6[-1] == 5.5\n",
    "assert sol6[0] == 0.1\n",
    "assert sol6[4] == 1.5"
   ]
  },
  {
   "cell_type": "code",
   "execution_count": null,
   "id": "72fe12b0",
   "metadata": {},
   "outputs": [],
   "source": []
  }
 ],
 "metadata": {
  "interpreter": {
   "hash": "c2ad988b83bc3032ab0bc6c9b326315d9b3145f093b7c28f6f9e14e1089dbd73"
  },
  "kernelspec": {
   "display_name": "Python 3.8.8 64-bit ('NLP': conda)",
   "name": "python3"
  },
  "language_info": {
   "codemirror_mode": {
    "name": "ipython",
    "version": 3
   },
   "file_extension": ".py",
   "mimetype": "text/x-python",
   "name": "python",
   "nbconvert_exporter": "python",
   "pygments_lexer": "ipython3",
   "version": "3.8.8"
  }
 },
 "nbformat": 4,
 "nbformat_minor": 5
}
