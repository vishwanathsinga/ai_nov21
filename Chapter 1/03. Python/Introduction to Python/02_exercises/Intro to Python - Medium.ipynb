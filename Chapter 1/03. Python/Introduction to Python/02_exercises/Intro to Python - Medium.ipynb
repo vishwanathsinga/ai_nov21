{
 "cells": [
  {
   "cell_type": "markdown",
   "metadata": {},
   "source": [
    "Here you have a collection of guided exercises for the first class on Python. <br>\n",
    "The exercises are divided by topic, following the topics reviewed during the theory session, and for each topic you have some mandatory exercises, and other optional exercises, which you are invited to do if you still have time after the mandatory exercises. <br>\n",
    "\n",
    "Remember that you have 5 hours to solve these exercises, after which we will review the most interesting exercises together. If you don't finish all the exercises, you can work on them tonightor tomorrow. \n",
    "\n",
    "At the end of the class, we will upload the code with the solutions of the exercises so that you can review them again if needed. If you still have not finished some exercises, try to do them first by yourself, before taking a look at the solutions: you are doing these exercises for yourself, so it is always the best to do them your way first, as it is the fastest way to learn!"
   ]
  },
  {
   "cell_type": "markdown",
   "metadata": {},
   "source": [
    "**Exercise 1.3 (🌶️):** You look at the clock and see that it is currently 14.00h. You set an alarm to go off 535 hours later. At what time will the alarm go off? Write a program that prints the answer. Hint: for the best solution, you will need the modulo operator. Second hint: The answer is 21.00h, but of course, this exercise is not about the answer, but about how you get it."
   ]
  },
  {
   "cell_type": "code",
   "execution_count": 3,
   "metadata": {},
   "outputs": [
    {
     "data": {
      "text/plain": [
       "21"
      ]
     },
     "execution_count": 3,
     "metadata": {},
     "output_type": "execute_result"
    }
   ],
   "source": [
    "def time(start,hours):\n",
    "    total_time=start+hours\n",
    "    alarm_time=total_time%24\n",
    "    return(alarm_time)\n",
    "time(14,535)"
   ]
  },
  {
   "cell_type": "code",
   "execution_count": 1,
   "metadata": {},
   "outputs": [
    {
     "name": "stdout",
     "output_type": "stream",
     "text": [
      "21\n",
      "21.00h\n"
     ]
    }
   ],
   "source": [
    "#Your Code Here\n",
    "a = 14\n",
    "b = 535\n",
    "c = ((a + b)%24)\n",
    "print(c)\n",
    "print(str (c )+\".00h\")\n"
   ]
  },
  {
   "cell_type": "markdown",
   "metadata": {},
   "source": [
    "**Exercise 5.4 (🌶️):** \"99 bottles of beer\" is a traditional song in the United States and Canada. It is popular to sing on long trips, as it has a very repetitive format which is easy to memorize, and can take a long time to sing. The song's simple lyrics are as follows: \"99 bottles of beer on the wall, 99 bottles of beer. Take one down, pass it around, 98 bottles of beer on the wall.\" The same verse is repeated, each time with one fewer bottle. The song is completed when the singer or singers reach zero. Write a function that generates and prints all the verses of the song (though you might start a bit lower, for instance with 10 bottles). Make sure that your loop is not endless, and that you use the proper inflection for the word \"bottle\"."
   ]
  },
  {
   "cell_type": "code",
   "execution_count": null,
   "metadata": {},
   "outputs": [],
   "source": [
    "#Your Code Here\n",
    "def beersong():\n",
    "    \"\"\"\n",
    "    5 bottles of beer on the wall, 5 bottles of beer. Take one down, pass it around, 4 bottles of beer in the wall\n",
    "    4 bottles of beer on the wall, 4 bottles of beer. Take one down, pass it around, 3 bottles of beer in the wall\n",
    "    3 bottles of beer on the wall, 3 bottles of beer. Take one down, pass it around, 2 bottles of beer in the wall\n",
    "    2 bottles of beer on the wall, 2 bottles of beer. Take one down, pass it around, 1 bottle of beer in the wall\n",
    "    1 bottle of beer on the wall, 1 bottle of beer. Take one down, pass it around, 0 bottles of beer in the wall\n",
    "    \"\"\"\n",
    "    return\n",
    "\n"
   ]
  },
  {
   "cell_type": "code",
   "execution_count": 4,
   "metadata": {},
   "outputs": [
    {
     "name": "stdout",
     "output_type": "stream",
     "text": [
      "10bottles of beer on the wall, 10bottles of beer.Take one down, pass it around, 9bottles of beer in the wall \n",
      "9bottles of beer on the wall, 9bottles of beer.Take one down, pass it around, 8bottles of beer in the wall \n",
      "8bottles of beer on the wall, 8bottles of beer.Take one down, pass it around, 7bottles of beer in the wall \n",
      "7bottles of beer on the wall, 7bottles of beer.Take one down, pass it around, 6bottles of beer in the wall \n",
      "6bottles of beer on the wall, 6bottles of beer.Take one down, pass it around, 5bottles of beer in the wall \n",
      "5bottles of beer on the wall, 5bottles of beer.Take one down, pass it around, 4bottles of beer in the wall \n",
      "4bottles of beer on the wall, 4bottles of beer.Take one down, pass it around, 3bottles of beer in the wall \n",
      "3bottles of beer on the wall, 3bottles of beer.Take one down, pass it around, 2bottles of beer in the wall \n",
      "2bottles of beer on the wall, 2bottles of beer.Take one down, pass it around, 1bottle of beer in the wall \n",
      "1bottle of beer on the wall, 1bottle of beer.Take one down, pass it around, 0bottles of beer in the wall \n"
     ]
    }
   ],
   "source": [
    "def song(beer_bottles):\n",
    "    for i in range(beer_bottles,0,-1):\n",
    "        if i==1:\n",
    "            bt='bottle'\n",
    "        else:\n",
    "            bt='bottles'  \n",
    "        if (i-1)==1:\n",
    "            bt1='bottle'\n",
    "        else:\n",
    "            bt1='bottles'        \n",
    "        startstr = (str(i) + bt +' of beer on the wall, ' + str(i) + bt +' of beer.Take one down, pass it around, ' + str(i-1) + bt1 +' of beer in the wall ')  \n",
    "        print(startstr)\n",
    "song(10)"
   ]
  },
  {
   "cell_type": "markdown",
   "metadata": {},
   "source": [
    "**Exercise 5.5 (🌶️):** The Fibonacci sequence is a sequence of numbers that starts with 1, followed by 1 again. Every next number is the sum of the two previous numbers. I.e., the sequence starts with 1, 1, 2, 3, 5, 8, 13, 21,... Write a function that calculates and prints the Fibonacci sequence until the numbers get higher than a `maximum`."
   ]
  },
  {
   "cell_type": "code",
   "execution_count": null,
   "metadata": {},
   "outputs": [],
   "source": [
    "#Your Code Here\n",
    "def fibonacci():\n",
    "    \"\"\"\n",
    "    Fibonacci sequence up to 22 :\n",
    "    0 , 1 , 1 , 2 , 3 , 5 , 8 , 13 , 21\n",
    "    \"\"\"\n",
    "    return\n",
    "\n"
   ]
  },
  {
   "cell_type": "code",
   "execution_count": 6,
   "metadata": {},
   "outputs": [
    {
     "name": "stdout",
     "output_type": "stream",
     "text": [
      "Fibonacci sequence up to 22:\n",
      "0, 1, 1, 2, 3, 5, 8, 13, 21\n"
     ]
    }
   ],
   "source": [
    "def fib(num) :\n",
    "    x ,y = 0 ,1\n",
    "    output=[0]\n",
    "    while y < num :\n",
    "        output.append(y)\n",
    "        x, y = y, x+y\n",
    "\n",
    "\n",
    "    replaced_chars = \"[]\"\t\t\t\t\t\t\t\t\t\t\t\t\t\n",
    "    rp_length = len(replaced_chars)\n",
    "    stringo = str(output)\n",
    "    removed_chars = str.maketrans(replaced_chars ,rp_length*\" \")\n",
    "    print(\"Fibonacci sequence up to \" + str(num) + \":\" + \"\\n\"  + stringo.translate(removed_chars).strip())\n",
    "fib(22)"
   ]
  },
  {
   "cell_type": "markdown",
   "metadata": {},
   "source": [
    "**Exercise 5.8 (🌶️):** A, B, C, and D are all different digits. The number DCBA is equal to 4 times the number ABCD. What are the digits? Note: to make ABCD and DCBA conventional numbers, neither A nor D can be zero. Use a quadruple-nested loop."
   ]
  },
  {
   "cell_type": "code",
   "execution_count": 9,
   "metadata": {},
   "outputs": [
    {
     "ename": "IndentationError",
     "evalue": "expected an indented block after 'else' statement on line 13 (Temp/ipykernel_15188/1350260244.py, line 16)",
     "output_type": "error",
     "traceback": [
      "\u001b[1;36m  File \u001b[1;32m\"C:\\Users\\DELL\\AppData\\Local\\Temp/ipykernel_15188/1350260244.py\"\u001b[1;36m, line \u001b[1;32m16\u001b[0m\n\u001b[1;33m    nested_nest()\u001b[0m\n\u001b[1;37m                 ^\u001b[0m\n\u001b[1;31mIndentationError\u001b[0m\u001b[1;31m:\u001b[0m expected an indented block after 'else' statement on line 13\n"
     ]
    }
   ],
   "source": [
    "def nested_nest():\n",
    "    for a in range(1,10):\n",
    "        for b in range(10):\n",
    "            for c in range(10):\n",
    "                for d in range(1,10):\n",
    "                    dcba1 = 1000 * a + 100 * b + 10 * c + d\n",
    "                    dcba = dcba1*4\n",
    "                    dcbastr = str(dcba)\n",
    "                    dcbabstr = dcbastr[::-1]\n",
    "                    dcbab = int(dcbabstr)\n",
    "                    if dcba1 ==dcba:\n",
    "                        print(f\"{dcba1} * 4 = {dcba}\")\n",
    "                    else:\n",
    "                      \n",
    "\n",
    "nested_nest()\n",
    "\n",
    "                  \n",
    "                   "
   ]
  },
  {
   "cell_type": "code",
   "execution_count": null,
   "metadata": {},
   "outputs": [],
   "source": [
    "for i in range(1000,1000):\n",
    "    dcba = 4 * abcd\n",
    "    dcbastr = str(dcba)\n",
    "    dcbabstr =dcbastr[::-1]\n",
    "    dcbab = int(dcbabstr)\n",
    "    if abcd == dcbab:\n",
    "        print(f\"{\")\n"
   ]
  },
  {
   "cell_type": "code",
   "execution_count": 7,
   "metadata": {},
   "outputs": [
    {
     "name": "stdout",
     "output_type": "stream",
     "text": [
      "A = 2\n",
      "B = 1\n",
      "C = 7\n",
      "D = 8\n"
     ]
    }
   ],
   "source": [
    "def nested_nest(digits):\n",
    "    for a in digits[1:]:\n",
    "        for b in digits:\n",
    "            for c in digits:\n",
    "                for d in digits[1:]:\n",
    "                    if 4*(a*1000+b*100+c*10+d*1) == (d*1000+c*100+b*10+a*1):\n",
    "                        print('A =', a)\n",
    "                        print('B =', b)\n",
    "                        print('C =', c)\n",
    "                        print('D =', d)\n",
    "digits = [0, 1, 2, 3, 4, 5, 6, 7, 8, 9]\n",
    "nested_nest(digits)"
   ]
  },
  {
   "cell_type": "code",
   "execution_count": null,
   "metadata": {},
   "outputs": [],
   "source": [
    "#Your Code Here\n",
    "# Solve 4*ABCD == DCBA\n",
    "def nested_nest():\n",
    "    \n",
    "    \"\"\"\n",
    "    A = 2\n",
    "    B = 1\n",
    "    C = 7\n",
    "    D = 8\n",
    "    \"\"\"\n",
    "    return\n",
    "    "
   ]
  }
 ],
 "metadata": {
  "kernelspec": {
   "display_name": "Python 3",
   "language": "python",
   "name": "python3"
  },
  "language_info": {
   "codemirror_mode": {
    "name": "ipython",
    "version": 3
   },
   "file_extension": ".py",
   "mimetype": "text/x-python",
   "name": "python",
   "nbconvert_exporter": "python",
   "pygments_lexer": "ipython3",
   "version": "3.10.0"
  }
 },
 "nbformat": 4,
 "nbformat_minor": 4
}
