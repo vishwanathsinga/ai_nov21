{
 "cells": [
  {
   "cell_type": "code",
   "execution_count": 3,
   "metadata": {},
   "outputs": [],
   "source": [
    "import requests\n",
    "from bs4 import BeautifulSoup\n",
    "import numpy as np\n",
    "import pandas as pd"
   ]
  },
  {
   "cell_type": "code",
   "execution_count": 4,
   "metadata": {},
   "outputs": [],
   "source": [
    "def get_links_for_1000(url,pages):\n",
    "    for page_number in range(1,pages):\n",
    "        url_page = requests.get(url+str(page_number))\n",
    "        soup = BeautifulSoup(url_page.content, 'html.parser')\n",
    "        href_link_list =[]\n",
    "        for link in soup.find_all('a', class_='bookTitle') :\n",
    "            if link.has_attr('href'):\n",
    "                href_link_list.append(link.attrs['href'])"
   ]
  },
  {
   "cell_type": "code",
   "execution_count": 5,
   "metadata": {},
   "outputs": [],
   "source": [
    "list_of_1000_links = get_links_for_1000('https://www.goodreads.com/list/show/1.Best_Books_Ever?page=',10)"
   ]
  },
  {
   "cell_type": "code",
   "execution_count": 38,
   "metadata": {},
   "outputs": [],
   "source": [
    "url_list = requests.get(\"https://www.goodreads.com/list/show/1.Best_Books_Ever?page=1\")\n",
    "soup = BeautifulSoup(url_list.content, 'html.parser')\n",
    "href_link_list =[]\n",
    "for link in soup.find_all('a', class_='bookTitle') :\n",
    "    if link.has_attr('href'):\n",
    "        href_link_list.append(link.attrs['href'])\n",
    "    \n",
    "url_detail = requests.get(\"https://www.goodreads.com\" + str(href_link_list[0]))\n",
    "soup_detail = BeautifulSoup(url_detail.content, 'html.parser')"
   ]
  },
  {
   "cell_type": "code",
   "execution_count": 39,
   "metadata": {},
   "outputs": [],
   "source": [
    "url2 = requests.get(\"https://www.goodreads.com/book/show/2767052-the-hunger-games\")\n",
    "soup_detail = BeautifulSoup(url2.content, 'html.parser')"
   ]
  },
  {
   "cell_type": "code",
   "execution_count": 2,
   "metadata": {},
   "outputs": [
    {
     "ename": "NameError",
     "evalue": "name 'soup_detail' is not defined",
     "output_type": "error",
     "traceback": [
      "\u001b[1;31m---------------------------------------------------------------------------\u001b[0m",
      "\u001b[1;31mNameError\u001b[0m                                 Traceback (most recent call last)",
      "\u001b[1;32m~\\AppData\\Local\\Temp/ipykernel_4572/174357990.py\u001b[0m in \u001b[0;36m<module>\u001b[1;34m\u001b[0m\n\u001b[0;32m      1\u001b[0m \u001b[1;31m#get the book title\u001b[0m\u001b[1;33m\u001b[0m\u001b[1;33m\u001b[0m\u001b[1;33m\u001b[0m\u001b[0m\n\u001b[0;32m      2\u001b[0m \u001b[0mbook_titles\u001b[0m \u001b[1;33m=\u001b[0m \u001b[1;33m[\u001b[0m\u001b[1;33m]\u001b[0m\u001b[1;33m\u001b[0m\u001b[1;33m\u001b[0m\u001b[0m\n\u001b[1;32m----> 3\u001b[1;33m \u001b[0mtitle\u001b[0m \u001b[1;33m=\u001b[0m \u001b[0msoup_detail\u001b[0m\u001b[1;33m.\u001b[0m\u001b[0mfind\u001b[0m\u001b[1;33m(\u001b[0m\u001b[1;34m\"h1\"\u001b[0m\u001b[1;33m,\u001b[0m \u001b[1;33m{\u001b[0m\u001b[1;34m\"id\"\u001b[0m\u001b[1;33m:\u001b[0m\u001b[1;34m\"bookTitle\"\u001b[0m\u001b[1;33m}\u001b[0m\u001b[1;33m)\u001b[0m\u001b[1;33m.\u001b[0m\u001b[0mtext\u001b[0m\u001b[1;33m.\u001b[0m\u001b[0mreplace\u001b[0m\u001b[1;33m(\u001b[0m\u001b[1;34m\"\\n\"\u001b[0m\u001b[1;33m,\u001b[0m\u001b[1;34m\"\"\u001b[0m\u001b[1;33m)\u001b[0m\u001b[1;33m.\u001b[0m\u001b[0mreplace\u001b[0m\u001b[1;33m(\u001b[0m\u001b[1;34m\"      \"\u001b[0m\u001b[1;33m,\u001b[0m\u001b[1;34m\"\"\u001b[0m\u001b[1;33m)\u001b[0m\u001b[1;33m\u001b[0m\u001b[1;33m\u001b[0m\u001b[0m\n\u001b[0m\u001b[0;32m      4\u001b[0m \u001b[0mbook_titles\u001b[0m\u001b[1;33m.\u001b[0m\u001b[0mappend\u001b[0m\u001b[1;33m(\u001b[0m\u001b[0mtitle\u001b[0m\u001b[1;33m)\u001b[0m\u001b[1;33m\u001b[0m\u001b[1;33m\u001b[0m\u001b[0m\n\u001b[0;32m      5\u001b[0m \u001b[0mprint\u001b[0m\u001b[1;33m(\u001b[0m\u001b[0mbook_titles\u001b[0m\u001b[1;33m)\u001b[0m\u001b[1;33m\u001b[0m\u001b[1;33m\u001b[0m\u001b[0m\n",
      "\u001b[1;31mNameError\u001b[0m: name 'soup_detail' is not defined"
     ]
    }
   ],
   "source": [
    "#get the book title\n",
    "book_titles = []\n",
    "title = soup_detail.find(\"h1\", {\"id\":\"bookTitle\"}).text.replace(\"\\n\",\"\").replace(\"      \",\"\")\n",
    "book_titles.append(title)\n",
    "print(book_titles)\n",
    "\n",
    "\n",
    "#get the book author\n",
    "book_author = []\n",
    "author = soup_detail.find(\"div\", {\"class\":\"authorName__container\"}).text.replace(\"\\n\",\"\")\n",
    "book_author.append(author)\n",
    "print(book_author)\n",
    "\n",
    "#get the book reviews\n",
    "book_reviews = []\n",
    "review = soup_detail.find(\"meta\", {\"itemprop\":\"reviewCount\"}).text.replace(\"\\n\",\"\").replace(\" \",\"\")\n",
    "only_numbers = re.findall(\"[0-9]+,[0-9]+\", review)\n",
    "book_reviews.append(only_numbers)\n",
    "print(book_reviews)\n",
    "\n",
    "# get ratings\n",
    "book_ratings = []\n",
    "rating = soup_detail.find(\"meta\", {\"itemprop\":\"ratingCount\"}).text.replace(\"\\n\",\"\")\n",
    "only_numbers = re.findall(\"[0-9]+,[0-9]+\", rating)\n",
    "book_ratings.append(only_numbers)\n",
    "print(book_ratings)\n",
    "\n",
    "# get avgratings\n",
    "book_avgratings = []\n",
    "avgrating = soup_detail.find(\"span\", {\"itemprop\":\"ratingValue\"}).text.replace(\"\\n\",\"\").replace(' ','')\n",
    "book_avgratings.append(avgrating)\n",
    "print(book_avgratings)\n",
    "\n",
    "# get pages\n",
    "book_pages = []\n",
    "page = soup_detail.find(\"span\", {\"itemprop\":\"numberOfPages\"}).text.split()\n",
    "page = page[0]\n",
    "book_pages.append(page)\n",
    "print(book_pages)\n",
    "\n",
    "# get years\n",
    "book_publish_year = []\n",
    "publish_year = soup_detail.find(\"nobr\", {\"class\":\"greyText\"}).text.replace(\"\\n\",\"\").replace(\")\",\"\").split()\n",
    "publish_year = publish_year[-1]\n",
    "book_publish_year.append(publish_year)\n",
    "print(book_publish_year)\n",
    "\n",
    "# get series # bool 1 : True 0 : False\n",
    "book_series = []\n",
    "series = soup_detail.find_all(class_= \"infoBoxRowTitle\")\n",
    "series = [serie.get_text() for serie in series]\n",
    "series = [serie.split() for serie in series]\n",
    "print(series)\n",
    "\n",
    "# get awards\n",
    "book_awards = []\n",
    "award = soup_detail.find(\"div\", {\"itemprop\":\"awards\"}).text.replace(\"\\n\",\"\")\n",
    "book_awards.append(award)\n",
    "print(book_awards)\n",
    "\n",
    "# get places\n",
    "book_places = []\n",
    "places = soup_detail.find(\"div\", {\"id\":\"bookDataBox\"}).text.replace(\"\\n\",\"\").split(',')\n",
    "book_places.append(places)\n",
    "\n",
    "# get genres\n",
    "book_genres = []\n",
    "genres = soup_detail.find_all(class_=\"actionLinkLite bookPageGenreLink\")\n",
    "genres = genres[:3]\n",
    "genres = [genre.get_text() for genre in genres]\n",
    "book_genres.append(genres)\n",
    "print(book_genres)"
   ]
  },
  {
   "cell_type": "code",
   "execution_count": 41,
   "metadata": {},
   "outputs": [
    {
     "name": "stdout",
     "output_type": "stream",
     "text": [
      "[['Original TitleThe Hunger GamesISBN                  0439023483                      (ISBN13: 9780439023481)Edition LanguageEnglishSeriesThe Hunger Games #1 CharactersKatniss Everdeen', ' Peeta Mellark', ' Cato (Hunger Games)', ' Primrose Everdeen', ' Gale Hawthorne...more', ' Effie Trinket', ' Haymitch Abernathy', ' Cinna', ' President Coriolanus Snow', ' Rue', ' Flavius', ' Lavinia (Hunger Games)', ' Marvel', ' Glimmer', ' Clove', ' Foxface', ' Thresh', ' Greasy Sae', ' Madge Undersee', ' Caesar Flickerman', ' Claudius Templesmith', ' Octavia (Hunger Games)', ' Portia (hunger Games)...lessSettingDistrict 12', ' PanemCapitol', ' PanemPanem(United States)Literary AwardsLocus Award Nominee for Best Young Adult Book (2009)', ' Georgia Peach Book Award (2009)', ' Buxtehuder Bulle (2009)', ' Golden Duck Award for Young Adult (Hal Clement Award) (2009)', \" Grand Prix de l'Imaginaire Nominee for Roman jeunesse étranger (2010)...moreBooks I Loved Best Yearly (BILBY) Awards for Older Readers (2012)\", \" West Australian Young Readers' Book Award (WAYRBA) for Older Readers (2010)\", \" Red House Children's Book Award for Older Readers & Overall (2010)\", ' South Carolina Book Award for Junior and Young Adult Book (2011)', ' Charlotte Award (2010)', ' Colorado Blue Spruce Young Adult Book Award (2010)', ' Teen Buckeye Book Award (2009)', \" Pennsylvania Young Readers' Choice Award for Young Adults (2010)\", ' Rhode Island Teen Book Award (2010)', ' Vermont Golden Dome Book Award (2010)', ' Evergreen Teen Book Award (2011)', ' Soaring Eagle Book Award (2009)', ' Milwaukee County Teen Book Award Nominee (2010)', ' Sakura Medal for Middle School Book (2010)', ' Michigan Library Association Thumbs Up! Award (2009)', ' Florida Teens Read (2009)', ' Deutscher Jugendliteraturpreis for Preis der Jugendjury (2010)', ' Iowa High School Book Award (2011)', ' New Mexico Land of Enchantment Award for Young Adult (2011)', ' Eliot Rosewater Indiana High School Book Award (2010)', ' The Inky Awards for Silver Inky (2009)', ' California Young Readers Medal for Young Adult (2011)', ' Lincoln Award (2011)', ' Kinderboekwinkelprijs (2010)', ' Missouri Truman Readers Award (2011)', ' CYBILS Award for Young Adult Fantasy & Science Fiction (2008)', ' Literaturpreis der Jury der jungen Leser for Jugendbuch (2010)', ' The Inky Awards Shortlist for Silver Inky (2009)', ' Prix Et-lisez-moi (2011)', ' Missouri Gateway Readers Award (2011)', ' Oklahoma Sequoyah Award for High School and Intermediate (2011)', ' Premio El Templo de las Mil Puertas for Mejor novela extranjera perteneciente a saga (2009)', \" Rebecca Caudill Young Readers' Book Award (2011)\", ' LovelyBooks Leserpreis for Fantasy (2009)', ' LovelyBooks Leserpreis for Bestes Cover/Umschlag (2009)', ' Premi Protagonista Jove for Categoria 13-14 anys (2010)...less Other Editions (380)All Editions | Add a New Edition | Combine']]\n"
     ]
    }
   ],
   "source": [
    "book_places = []\n",
    "places = soup_detail.find(\"div\", {\"id\":\"bookDataBox\"}).text.replace(\"\\n\",\"\").split(',')\n",
    "book_places.append(places)\n",
    "print(book_places)"
   ]
  },
  {
   "cell_type": "code",
   "execution_count": 43,
   "metadata": {},
   "outputs": [
    {
     "ename": "NameError",
     "evalue": "name 'book_title' is not defined",
     "output_type": "error",
     "traceback": [
      "\u001b[1;31m---------------------------------------------------------------------------\u001b[0m",
      "\u001b[1;31mNameError\u001b[0m                                 Traceback (most recent call last)",
      "\u001b[1;32m~\\AppData\\Local\\Temp/ipykernel_16824/1024365451.py\u001b[0m in \u001b[0;36m<module>\u001b[1;34m\u001b[0m\n\u001b[1;32m----> 1\u001b[1;33m data = {'title':book_title, \n\u001b[0m\u001b[0;32m      2\u001b[0m       \u001b[1;34m'author'\u001b[0m\u001b[1;33m:\u001b[0m \u001b[0mbook_author\u001b[0m\u001b[1;33m,\u001b[0m\u001b[1;33m\u001b[0m\u001b[1;33m\u001b[0m\u001b[0m\n\u001b[0;32m      3\u001b[0m       \u001b[1;34m'num_reviews'\u001b[0m\u001b[1;33m:\u001b[0m \u001b[0mbook_num_reviews\u001b[0m\u001b[1;33m,\u001b[0m\u001b[1;33m\u001b[0m\u001b[1;33m\u001b[0m\u001b[0m\n\u001b[0;32m      4\u001b[0m       \u001b[1;34m'num_ratings'\u001b[0m\u001b[1;33m:\u001b[0m \u001b[0mbook_num_ratings\u001b[0m\u001b[1;33m,\u001b[0m\u001b[1;33m\u001b[0m\u001b[1;33m\u001b[0m\u001b[0m\n\u001b[0;32m      5\u001b[0m       \u001b[1;34m'avg_rating'\u001b[0m\u001b[1;33m:\u001b[0m \u001b[0mbook_avg_rating\u001b[0m\u001b[1;33m,\u001b[0m\u001b[1;33m\u001b[0m\u001b[1;33m\u001b[0m\u001b[0m\n",
      "\u001b[1;31mNameError\u001b[0m: name 'book_title' is not defined"
     ]
    }
   ],
   "source": []
  },
  {
   "cell_type": "code",
   "execution_count": null,
   "metadata": {},
   "outputs": [],
   "source": []
  }
 ],
 "metadata": {
  "interpreter": {
   "hash": "9d49e6ad289614883bcb5342a4a3da3b8f2fdd690e2fb3cfaad4eebfabb9319e"
  },
  "kernelspec": {
   "display_name": "Python 3.8.12 64-bit ('vishwa': conda)",
   "language": "python",
   "name": "python3"
  },
  "language_info": {
   "codemirror_mode": {
    "name": "ipython",
    "version": 3
   },
   "file_extension": ".py",
   "mimetype": "text/x-python",
   "name": "python",
   "nbconvert_exporter": "python",
   "pygments_lexer": "ipython3",
   "version": "3.8.12"
  },
  "orig_nbformat": 4
 },
 "nbformat": 4,
 "nbformat_minor": 2
}
