{
 "cells": [
  {
   "cell_type": "code",
   "execution_count": 1,
   "metadata": {},
   "outputs": [],
   "source": [
    "import requests\n",
    "from bs4 import BeautifulSoup\n",
    "import pandas as pd\n",
    "import numpy as np"
   ]
  },
  {
   "cell_type": "code",
   "execution_count": 2,
   "metadata": {},
   "outputs": [],
   "source": [
    "baseurl='https://www.goodreads.com/'"
   ]
  },
  {
   "cell_type": "code",
   "execution_count": 7,
   "metadata": {},
   "outputs": [],
   "source": [
    "headers={\n",
    "    'User-Agent':'Mozilla/5.0 (Windows NT 10.0; Win64; x64) AppleWebKit/537.36 (KHTML, like Gecko) Chrome/96.0.4664.45 Safari/537.36'\n",
    "}"
   ]
  },
  {
   "cell_type": "code",
   "execution_count": 3,
   "metadata": {},
   "outputs": [],
   "source": [
    "url=[]\n",
    "title=[]\n",
    "author=[]\n",
    "review=[]\n",
    "avgrating=[]\n",
    "rating=[]\n",
    "pages=[]\n",
    "publish_year=[]\n",
    "series=[]\n",
    "awards=[]\n",
    "total=[]"
   ]
  },
  {
   "cell_type": "code",
   "execution_count": 4,
   "metadata": {},
   "outputs": [],
   "source": [
    "booklists=[]"
   ]
  },
  {
   "cell_type": "code",
   "execution_count": 5,
   "metadata": {},
   "outputs": [],
   "source": [
    "for x in range(0,10):\n",
    "    r=requests.get(f'https://www.goodreads.com/list/show/1.Best_Books_Ever?page={x}')\n",
    "    soup = BeautifulSoup(r.content,'lxml')\n",
    "    booklist=soup.find_all('div', class_='js-tooltipTrigger tooltipTrigger')\n",
    "    for book in booklist:\n",
    "        for link in book.find_all('a', href=True):\n",
    "            booklists.append(baseurl + link['href'])"
   ]
  },
  {
   "cell_type": "code",
   "execution_count": 8,
   "metadata": {},
   "outputs": [],
   "source": [
    "#testlink='https://www.goodreads.com/book/show/2767052-the-hunger-games'\n",
    "for links in booklists:\n",
    "    r=requests.get(links, headers=headers)\n",
    "    soup =BeautifulSoup(r.content,'lxml')\n",
    "    name=soup.find('h1',class_='gr-h1 gr-h1--serif').text.strip() if soup.find('h1',class_='gr-h1 gr-h1--serif') else None\n",
    "    title.append(name)\n",
    "    author_by=soup.find('div',class_='authorName__container').text.strip().replace(' ','') if soup.find('div',class_='authorName__container') else None\n",
    "    author.append(author_by)\n",
    "    avg_rating_book=soup.find('span',itemprop='ratingValue').text.replace(' ','').strip() if soup.find('span',itemprop='ratingValue') else None\n",
    "    avgrating.append(avg_rating_book)\n",
    "    reviews_book=soup.find('meta',itemprop='reviewCount').text.replace('reviews','').strip() if soup.find('meta',itemprop='reviewCount') else None\n",
    "    review.append(reviews_book)\n",
    "    awards_book=soup.find('div',itemprop='awards').text.strip() if soup.find('div',itemprop='awards') else None\n",
    "    awards.append(awards_book)\n",
    "    pages_book=soup.find('span',itemprop='numberOfPages').text.strip().replace('pages','') if soup.find('span',itemprop='numberOfPages') else None\n",
    "    pages.append(pages_book)\n",
    "    series_book=soup.find('a',class_='greyText').text.strip().replace('(','').replace(')','') if soup.find('a',class_='greyText') else None\n",
    "    series.append(series_book)\n",
    "    url_book=soup.find('a',rel='noopener noreferrer').text if soup.find('a',rel='noopener noreferrer') else None\n",
    "    url.append(url_book)\n",
    "    rating_book=soup.find('meta',itemprop='ratingCount').text.replace('ratings','').strip() if soup.find('meta',itemprop='ratingCount') else None\n",
    "    rating.append(rating_book)\n",
    "    first_publish_year=soup.find('nobr',class_='greyText').text.replace('(first published','').replace(')','').strip() if soup.find('nobr',class_='greyText') else None\n",
    "    publish_year.append(first_publish_year)"
   ]
  },
  {
   "cell_type": "code",
   "execution_count": null,
   "metadata": {},
   "outputs": [],
   "source": [
    "movie_df=pd.DataFrame({'name of movie':title,'author':author,'avg_rating':avgrating,'reviews':review,'Awards':awards,'NO.pages':pages,'series_of_book':series,'url':url,'rating':rating,'publish_year':publish_year})\n"
   ]
  }
 ],
 "metadata": {
  "interpreter": {
   "hash": "9d49e6ad289614883bcb5342a4a3da3b8f2fdd690e2fb3cfaad4eebfabb9319e"
  },
  "kernelspec": {
   "display_name": "Python 3.8.12 64-bit ('vishwa': conda)",
   "language": "python",
   "name": "python3"
  },
  "language_info": {
   "codemirror_mode": {
    "name": "ipython",
    "version": 3
   },
   "file_extension": ".py",
   "mimetype": "text/x-python",
   "name": "python",
   "nbconvert_exporter": "python",
   "pygments_lexer": "ipython3",
   "version": "3.8.12"
  },
  "orig_nbformat": 4
 },
 "nbformat": 4,
 "nbformat_minor": 2
}
