{
 "cells": [
  {
   "cell_type": "code",
   "execution_count": 6,
   "metadata": {},
   "outputs": [],
   "source": [
    "import numpy as np\n",
    "import pandas as pd\n",
    "import csv\n",
    "import collections\n",
    "import pprint"
   ]
  },
  {
   "cell_type": "code",
   "execution_count": 9,
   "metadata": {},
   "outputs": [
    {
     "ename": "SyntaxError",
     "evalue": "EOL while scanning string literal (Temp/ipykernel_6264/1674204498.py, line 1)",
     "output_type": "error",
     "traceback": [
      "\u001b[1;36m  File \u001b[1;32m\"C:\\Users\\DELL\\AppData\\Local\\Temp/ipykernel_6264/1674204498.py\"\u001b[1;36m, line \u001b[1;32m1\u001b[0m\n\u001b[1;33m    url  = (r'C:\\Users\\DELL\\Downloads\\ai_nov21-main\\ai_nov21\\Chapter 1\\7. Web-scraping\\new.csv)\u001b[0m\n\u001b[1;37m                                                                                               ^\u001b[0m\n\u001b[1;31mSyntaxError\u001b[0m\u001b[1;31m:\u001b[0m EOL while scanning string literal\n"
     ]
    }
   ],
   "source": [
    "url  = (r'C:\\Users\\DELL\\Downloads\\ai_nov21-main\\ai_nov21\\Chapter 1\\7.Web-scraping\\new.csv)"
   ]
  },
  {
   "cell_type": "code",
   "execution_count": null,
   "metadata": {},
   "outputs": [],
   "source": []
  },
  {
   "cell_type": "code",
   "execution_count": 8,
   "metadata": {},
   "outputs": [
    {
     "ename": "SyntaxError",
     "evalue": "Missing parentheses in call to 'print'. Did you mean print(\"Result:-\")? (Temp/ipykernel_6264/4144083997.py, line 8)",
     "output_type": "error",
     "traceback": [
      "\u001b[1;36m  File \u001b[1;32m\"C:\\Users\\DELL\\AppData\\Local\\Temp/ipykernel_6264/4144083997.py\"\u001b[1;36m, line \u001b[1;32m8\u001b[0m\n\u001b[1;33m    print \"Result:-\"\u001b[0m\n\u001b[1;37m          ^\u001b[0m\n\u001b[1;31mSyntaxError\u001b[0m\u001b[1;31m:\u001b[0m Missing parentheses in call to 'print'. Did you mean print(\"Result:-\")?\n"
     ]
    }
   ],
   "source": [
    "\n",
    "\n",
    "with open(new.csv, 'r') as fp:\n",
    "    root = csv.reader(fp, delimiter=',')\n",
    "    result = collections.defaultdict(list)\n",
    "    for row in root:\n",
    "        year = row[0].split(\"-\")[0]\n",
    "        result[year].append(row)\n",
    "\n",
    "print \"Result:-\"        \n",
    "pprint.pprint(result)\n",
    "\n",
    "for i,j in result.items():\n",
    "    file_path = \"%s%s.csv\"%(src_path, i)\n",
    "    with open(file_path, 'wb') as fp:\n",
    "        writer = csv.writer(fp, delimiter=',')\n",
    "        writer.writerows(j)"
   ]
  },
  {
   "cell_type": "code",
   "execution_count": 10,
   "metadata": {},
   "outputs": [],
   "source": [
    "import csv\n",
    "\n",
    "with open('new.csv',r) as csv_file:\n",
    "    csv_reader = csv.reader(csv_file)\n",
    "     "
   ]
  },
  {
   "cell_type": "code",
   "execution_count": null,
   "metadata": {},
   "outputs": [],
   "source": []
  }
 ],
 "metadata": {
  "interpreter": {
   "hash": "9d49e6ad289614883bcb5342a4a3da3b8f2fdd690e2fb3cfaad4eebfabb9319e"
  },
  "kernelspec": {
   "display_name": "Python 3.8.12 64-bit ('vishwa': conda)",
   "language": "python",
   "name": "python3"
  },
  "language_info": {
   "codemirror_mode": {
    "name": "ipython",
    "version": 3
   },
   "file_extension": ".py",
   "mimetype": "text/x-python",
   "name": "python",
   "nbconvert_exporter": "python",
   "pygments_lexer": "ipython3",
   "version": "3.8.12"
  },
  "orig_nbformat": 4
 },
 "nbformat": 4,
 "nbformat_minor": 2
}
